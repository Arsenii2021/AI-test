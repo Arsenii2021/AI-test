# Author: Arsenii Kostenko
# Импортируем необходимые библиотеки
import tensorflow as tf
from tensorflow.keras.datasets import mnist
from tensorflow.keras.models import Sequential
from tensorflow.keras.layers import Dense, Flatten

# Загрузка данных из датасета MNIST
(x_train, y_train), (x_test, y_test) = mnist.load_data()

# Нормализация данных: приведение значений пикселей к диапазону [0, 1]
x_train, x_test = x_train / 255.0, x_test / 255.0

# Определение архитектуры модели
model = Sequential([
    Flatten(input_shape=(28, 28)),  # Преобразование двумерного изображения в одномерный массив
    Dense(128, activation='relu'),   # Полносвязный слой с 128 нейронами и функцией активации ReLU
    Dense(10, activation='softmax')  # Выходной слой с 10 нейронами (по числу классов) и функцией активации Softmax
])

# Компиляция модели
model.compile(optimizer='adam',   # Оптимизатор Adam
              loss='sparse_categorical_crossentropy',  # Функция потерь для категориальной классификации
              metrics=['accuracy'])  # Метрика для оценки производительности модели

# Обучение модели
model.fit(x_train, y_train, epochs=5, validation_data=(x_test, y_test))

# Оценка производительности модели на тестовом наборе данных
test_loss, test_accuracy = model.evaluate(x_test, y_test)
print(f"Test Loss: {test_loss}, Test Accuracy: {test_accuracy}")
